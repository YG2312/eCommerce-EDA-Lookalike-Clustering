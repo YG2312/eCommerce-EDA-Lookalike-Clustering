{
  "nbformat": 4,
  "nbformat_minor": 0,
  "metadata": {
    "colab": {
      "provenance": [],
      "authorship_tag": "ABX9TyO0RGulfwP5qlcVLdCACmu+",
      "include_colab_link": true
    },
    "kernelspec": {
      "name": "python3",
      "display_name": "Python 3"
    },
    "language_info": {
      "name": "python"
    }
  },
  "cells": [
    {
      "cell_type": "markdown",
      "metadata": {
        "id": "view-in-github",
        "colab_type": "text"
      },
      "source": [
        "<a href=\"https://colab.research.google.com/github/YG2312/eCommerce-EDA-Lookalike-Clustering/blob/main/Yash_Gupta_Lookalike.ipynb\" target=\"_parent\"><img src=\"https://colab.research.google.com/assets/colab-badge.svg\" alt=\"Open In Colab\"/></a>"
      ]
    },
    {
      "cell_type": "code",
      "execution_count": 1,
      "metadata": {
        "id": "cFQUVqSYVUVf"
      },
      "outputs": [],
      "source": [
        "import pandas as pd\n",
        "from sklearn.metrics.pairwise import cosine_similarity\n",
        "from sklearn.preprocessing import StandardScaler"
      ]
    },
    {
      "cell_type": "code",
      "source": [
        "customers = pd.read_csv('Customers.csv')\n",
        "products = pd.read_csv('Products.csv')\n",
        "transactions = pd.read_csv('Transactions.csv')\n",
        "\n",
        "# Merge datasets for model\n",
        "merged_data = transactions.merge(customers, on='CustomerID').merge(products, on='ProductID')"
      ],
      "metadata": {
        "id": "WAgVSiInV1CP"
      },
      "execution_count": 6,
      "outputs": []
    },
    {
      "cell_type": "code",
      "source": [
        "customer_features = merged_data.groupby('CustomerID').agg({\n",
        "    'TotalValue': 'sum',\n",
        "    'Quantity': 'sum',\n",
        "    'Price_x': 'mean'\n",
        "}).reset_index()"
      ],
      "metadata": {
        "id": "C51-lqTXV4M4"
      },
      "execution_count": 7,
      "outputs": []
    },
    {
      "cell_type": "code",
      "source": [
        "scaler = StandardScaler()\n",
        "scaled_features = scaler.fit_transform(customer_features.iloc[:, 1:])"
      ],
      "metadata": {
        "id": "wXbOOwAJV6qD"
      },
      "execution_count": 8,
      "outputs": []
    },
    {
      "cell_type": "code",
      "source": [
        "similarity_matrix = cosine_similarity(scaled_features)\n",
        "similarity_df = pd.DataFrame(similarity_matrix, index=customer_features['CustomerID'], columns=customer_features['CustomerID'])"
      ],
      "metadata": {
        "id": "7G_hhL0jWTGM"
      },
      "execution_count": 9,
      "outputs": []
    },
    {
      "cell_type": "code",
      "source": [
        "lookalike_dict = {}\n",
        "for customer in customer_features['CustomerID'][:20]:\n",
        "    similar_customers = similarity_df[customer].sort_values(ascending=False)[1:4]\n",
        "    lookalike_dict[customer] = [(sim_cust, round(score, 4)) for sim_cust, score in similar_customers.items()]"
      ],
      "metadata": {
        "id": "c_ZeLT8zWVjH"
      },
      "execution_count": 10,
      "outputs": []
    },
    {
      "cell_type": "code",
      "source": [
        "lookalike_df = pd.DataFrame.from_dict(lookalike_dict, orient='index', columns=['Lookalike_1', 'Lookalike_2', 'Lookalike_3'])\n",
        "lookalike_df.reset_index(inplace=True)\n",
        "lookalike_df.rename(columns={'index': 'CustomerID'}, inplace=True)\n",
        "lookalike_df.to_csv('Lookalike.csv', index=False)"
      ],
      "metadata": {
        "id": "u7M9NasqWbWU"
      },
      "execution_count": 11,
      "outputs": []
    },
    {
      "cell_type": "code",
      "source": [],
      "metadata": {
        "id": "n61-_cttWkr4"
      },
      "execution_count": null,
      "outputs": []
    }
  ]
}